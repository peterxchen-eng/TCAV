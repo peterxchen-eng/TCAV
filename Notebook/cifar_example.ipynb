{
  "nbformat": 4,
  "nbformat_minor": 0,
  "metadata": {
    "colab": {
      "name": "cifar_example.ipynb",
      "version": "0.3.2",
      "provenance": [],
      "collapsed_sections": [],
      "toc_visible": true
    },
    "language_info": {
      "codemirror_mode": {
        "name": "ipython",
        "version": 3
      },
      "file_extension": ".py",
      "mimetype": "text/x-python",
      "name": "python",
      "nbconvert_exporter": "python",
      "pygments_lexer": "ipython3",
      "version": "3.6.5"
    },
    "kernelspec": {
      "name": "python3",
      "display_name": "Python 3"
    },
    "accelerator": "GPU"
  },
  "cells": [
    {
      "cell_type": "markdown",
      "metadata": {
        "id": "gKvAaAbn8DAg",
        "colab_type": "text"
      },
      "source": [
        "# Concept Activation Vectors (CAVs) example on CIFAR data\n",
        "### Peter Xenopoulos\n",
        "\n",
        "In this workbook, we will go over how to use concept activation vectors (CAVs) on some popular image data -- the CIFAR datasets. These datasets are available through the `keras` package. \n",
        "\n",
        "For our first experiment, we will build a classifier that distinguishes between \"ship\" and \"bird\" images from CIFAR-10. We start by calling the necessary libraries and data."
      ]
    },
    {
      "cell_type": "code",
      "metadata": {
        "id": "2JZGUGUF_0K2",
        "colab_type": "code",
        "colab": {
          "base_uri": "https://localhost:8080/",
          "height": 468
        },
        "outputId": "02786ae8-32e2-4c64-9262-ae75b56b67d4"
      },
      "source": [
        "from tensorflow.python.client import device_lib\n",
        "device_lib.list_local_devices()"
      ],
      "execution_count": 27,
      "outputs": [
        {
          "output_type": "execute_result",
          "data": {
            "text/plain": [
              "[name: \"/device:CPU:0\"\n",
              " device_type: \"CPU\"\n",
              " memory_limit: 268435456\n",
              " locality {\n",
              " }\n",
              " incarnation: 10152301405482740333, name: \"/device:XLA_CPU:0\"\n",
              " device_type: \"XLA_CPU\"\n",
              " memory_limit: 17179869184\n",
              " locality {\n",
              " }\n",
              " incarnation: 231048778863343563\n",
              " physical_device_desc: \"device: XLA_CPU device\", name: \"/device:XLA_GPU:0\"\n",
              " device_type: \"XLA_GPU\"\n",
              " memory_limit: 17179869184\n",
              " locality {\n",
              " }\n",
              " incarnation: 10593743193011152494\n",
              " physical_device_desc: \"device: XLA_GPU device\", name: \"/device:GPU:0\"\n",
              " device_type: \"GPU\"\n",
              " memory_limit: 14800692839\n",
              " locality {\n",
              "   bus_id: 1\n",
              "   links {\n",
              "   }\n",
              " }\n",
              " incarnation: 11075395165991583517\n",
              " physical_device_desc: \"device: 0, name: Tesla T4, pci bus id: 0000:00:04.0, compute capability: 7.5\"]"
            ]
          },
          "metadata": {
            "tags": []
          },
          "execution_count": 27
        }
      ]
    },
    {
      "cell_type": "code",
      "metadata": {
        "id": "_t8d3e5v-lD4",
        "colab_type": "code",
        "colab": {}
      },
      "source": [
        "import zipfile\n",
        "with zipfile.ZipFile(\"/content/cav-keras-master.zip\",\"r\") as zip_ref:\n",
        "    zip_ref.extractall()"
      ],
      "execution_count": 0,
      "outputs": []
    },
    {
      "cell_type": "code",
      "metadata": {
        "id": "9QICX7-F9Opp",
        "colab_type": "code",
        "colab": {
          "base_uri": "https://localhost:8080/",
          "height": 33
        },
        "outputId": "be5e06a0-1e9e-4f91-b0bf-c06b1439d5a4"
      },
      "source": [
        "%cd /content/cav-keras-master/"
      ],
      "execution_count": 4,
      "outputs": [
        {
          "output_type": "stream",
          "text": [
            "/content/cav-keras-master\n"
          ],
          "name": "stdout"
        }
      ]
    },
    {
      "cell_type": "code",
      "metadata": {
        "id": "dGwBoKFj-zkV",
        "colab_type": "code",
        "colab": {
          "base_uri": "https://localhost:8080/",
          "height": 455
        },
        "outputId": "fecd93ea-76b3-4280-fcd5-fc024d9141fb"
      },
      "source": [
        "!pip3 install -r requirements.txt"
      ],
      "execution_count": 6,
      "outputs": [
        {
          "output_type": "stream",
          "text": [
            "Requirement already satisfied: numpy in /usr/local/lib/python3.6/dist-packages (from -r requirements.txt (line 1)) (1.16.4)\n",
            "Requirement already satisfied: keras in /usr/local/lib/python3.6/dist-packages (from -r requirements.txt (line 2)) (2.2.4)\n",
            "Requirement already satisfied: tensorflow in /usr/local/lib/python3.6/dist-packages (from -r requirements.txt (line 3)) (1.13.1)\n",
            "Requirement already satisfied: sklearn in /usr/local/lib/python3.6/dist-packages (from -r requirements.txt (line 4)) (0.0)\n",
            "Requirement already satisfied: keras-applications>=1.0.6 in /usr/local/lib/python3.6/dist-packages (from keras->-r requirements.txt (line 2)) (1.0.7)\n",
            "Requirement already satisfied: pyyaml in /usr/local/lib/python3.6/dist-packages (from keras->-r requirements.txt (line 2)) (3.13)\n",
            "Requirement already satisfied: six>=1.9.0 in /usr/local/lib/python3.6/dist-packages (from keras->-r requirements.txt (line 2)) (1.12.0)\n",
            "Requirement already satisfied: keras-preprocessing>=1.0.5 in /usr/local/lib/python3.6/dist-packages (from keras->-r requirements.txt (line 2)) (1.0.9)\n",
            "Requirement already satisfied: scipy>=0.14 in /usr/local/lib/python3.6/dist-packages (from keras->-r requirements.txt (line 2)) (1.3.0)\n",
            "Requirement already satisfied: h5py in /usr/local/lib/python3.6/dist-packages (from keras->-r requirements.txt (line 2)) (2.8.0)\n",
            "Requirement already satisfied: protobuf>=3.6.1 in /usr/local/lib/python3.6/dist-packages (from tensorflow->-r requirements.txt (line 3)) (3.7.1)\n",
            "Requirement already satisfied: tensorboard<1.14.0,>=1.13.0 in /usr/local/lib/python3.6/dist-packages (from tensorflow->-r requirements.txt (line 3)) (1.13.1)\n",
            "Requirement already satisfied: tensorflow-estimator<1.14.0rc0,>=1.13.0 in /usr/local/lib/python3.6/dist-packages (from tensorflow->-r requirements.txt (line 3)) (1.13.0)\n",
            "Requirement already satisfied: grpcio>=1.8.6 in /usr/local/lib/python3.6/dist-packages (from tensorflow->-r requirements.txt (line 3)) (1.15.0)\n",
            "Requirement already satisfied: termcolor>=1.1.0 in /usr/local/lib/python3.6/dist-packages (from tensorflow->-r requirements.txt (line 3)) (1.1.0)\n",
            "Requirement already satisfied: gast>=0.2.0 in /usr/local/lib/python3.6/dist-packages (from tensorflow->-r requirements.txt (line 3)) (0.2.2)\n",
            "Requirement already satisfied: astor>=0.6.0 in /usr/local/lib/python3.6/dist-packages (from tensorflow->-r requirements.txt (line 3)) (0.8.0)\n",
            "Requirement already satisfied: wheel>=0.26 in /usr/local/lib/python3.6/dist-packages (from tensorflow->-r requirements.txt (line 3)) (0.33.4)\n",
            "Requirement already satisfied: absl-py>=0.1.6 in /usr/local/lib/python3.6/dist-packages (from tensorflow->-r requirements.txt (line 3)) (0.7.1)\n",
            "Requirement already satisfied: scikit-learn in /usr/local/lib/python3.6/dist-packages (from sklearn->-r requirements.txt (line 4)) (0.21.2)\n",
            "Requirement already satisfied: setuptools in /usr/local/lib/python3.6/dist-packages (from protobuf>=3.6.1->tensorflow->-r requirements.txt (line 3)) (41.0.1)\n",
            "Requirement already satisfied: markdown>=2.6.8 in /usr/local/lib/python3.6/dist-packages (from tensorboard<1.14.0,>=1.13.0->tensorflow->-r requirements.txt (line 3)) (3.1.1)\n",
            "Requirement already satisfied: werkzeug>=0.11.15 in /usr/local/lib/python3.6/dist-packages (from tensorboard<1.14.0,>=1.13.0->tensorflow->-r requirements.txt (line 3)) (0.15.4)\n",
            "Requirement already satisfied: mock>=2.0.0 in /usr/local/lib/python3.6/dist-packages (from tensorflow-estimator<1.14.0rc0,>=1.13.0->tensorflow->-r requirements.txt (line 3)) (3.0.5)\n",
            "Requirement already satisfied: joblib>=0.11 in /usr/local/lib/python3.6/dist-packages (from scikit-learn->sklearn->-r requirements.txt (line 4)) (0.13.2)\n"
          ],
          "name": "stdout"
        }
      ]
    },
    {
      "cell_type": "code",
      "metadata": {
        "id": "Ek4AnknZ8DAh",
        "colab_type": "code",
        "colab": {
          "base_uri": "https://localhost:8080/",
          "height": 33
        },
        "outputId": "c667163a-e58b-4d24-a34e-1e5226d2de30"
      },
      "source": [
        "import numpy as np\n",
        "\n",
        "import matplotlib.pyplot as plt\n",
        "import seaborn as sns\n",
        "\n",
        "import keras\n",
        "from keras.datasets import cifar100, cifar10\n",
        "from keras.preprocessing.image import ImageDataGenerator\n",
        "from keras.models import Sequential\n",
        "from keras.layers import Dense, Dropout, Activation, Flatten\n",
        "from keras.layers import Conv2D, MaxPooling2D\n",
        "\n",
        "import sys\n",
        "import os\n",
        "sys.path.insert(0, os.path.abspath('../..'))\n",
        "\n",
        "from cav.tcav import *\n",
        "\n",
        "np.random.seed(1996)"
      ],
      "execution_count": 7,
      "outputs": [
        {
          "output_type": "stream",
          "text": [
            "Using TensorFlow backend.\n"
          ],
          "name": "stderr"
        }
      ]
    },
    {
      "cell_type": "code",
      "metadata": {
        "id": "kEoZVxhE8DAn",
        "colab_type": "code",
        "colab": {
          "base_uri": "https://localhost:8080/",
          "height": 50
        },
        "outputId": "bbf47033-2e85-4473-ad84-8d052cb7adfa"
      },
      "source": [
        "(x_train, y_train), (x_test, y_test) = cifar10.load_data()\n",
        "\n",
        "# Keep ships (8) from CIFAR-10\n",
        "interested_class = y_train == [8]\n",
        "interested_class_indx = [i for i, x in enumerate(interested_class) if x]\n",
        "x_train_class_one = x_train[interested_class_indx]\n",
        "other = y_train == [2]\n",
        "other_indx = [i for i, x in enumerate(other) if x]\n",
        "x_train_class_two = x_train[other_indx]\n",
        "\n",
        "x_train = np.append(x_train_class_one, x_train_class_two, axis = 0)\n",
        "y_train = [1] * 5000\n",
        "y_train = y_train + [0] * 5000\n",
        "\n",
        "x_train = x_train.astype('float32')\n",
        "x_test = x_test.astype('float32')\n",
        "x_train /= 255\n",
        "x_test /= 255"
      ],
      "execution_count": 8,
      "outputs": [
        {
          "output_type": "stream",
          "text": [
            "Downloading data from https://www.cs.toronto.edu/~kriz/cifar-10-python.tar.gz\n",
            "170500096/170498071 [==============================] - 10s 0us/step\n"
          ],
          "name": "stdout"
        }
      ]
    },
    {
      "cell_type": "markdown",
      "metadata": {
        "id": "FoVbRJlf8DAs",
        "colab_type": "text"
      },
      "source": [
        "We can see two examples images below. This is a fairly easy classification problem."
      ]
    },
    {
      "cell_type": "code",
      "metadata": {
        "id": "2ashYUzi8DAu",
        "colab_type": "code",
        "colab": {
          "base_uri": "https://localhost:8080/",
          "height": 220
        },
        "outputId": "c2a853dc-cbc7-4e1a-8b0e-7bd25521848b"
      },
      "source": [
        "f, axarr = plt.subplots(1,2)\n",
        "axarr[0].imshow(x_train[0])\n",
        "axarr[1].imshow(x_train[7777])"
      ],
      "execution_count": 9,
      "outputs": [
        {
          "output_type": "execute_result",
          "data": {
            "text/plain": [
              "<matplotlib.image.AxesImage at 0x7f2920e6f3c8>"
            ]
          },
          "metadata": {
            "tags": []
          },
          "execution_count": 9
        },
        {
          "output_type": "display_data",
          "data": {
            "image/png": "[encoded data removed]",
            "text/plain": [
              "<Figure size 432x288 with 2 Axes>"
            ]
          },
          "metadata": {
            "tags": []
          }
        }
      ]
    },
    {
      "cell_type": "markdown",
      "metadata": {
        "id": "lqAySFcq8DAy",
        "colab_type": "text"
      },
      "source": [
        "Now, let's say we are interested in how sensitive each class is to the concept of the \"ocean\". Clearly, the ship class, which we designate as 1, will likely be more sensitive. "
      ]
    },
    {
      "cell_type": "code",
      "metadata": {
        "id": "Vci_5hc78DAz",
        "colab_type": "code",
        "colab": {
          "base_uri": "https://localhost:8080/",
          "height": 50
        },
        "outputId": "94e08068-6b4e-4fa8-ecd6-26a303506ca2"
      },
      "source": [
        "(x_train_concept, y_train_concept), (x_test_concept, y_test_concept) = cifar100.load_data()\n",
        "\n",
        "# keep sea (71) from CIFAR-100\n",
        "concept = y_train_concept == [71]\n",
        "indices = concept\n",
        "indx_to_use = [i for i, x in enumerate(indices) if x]\n",
        "\n",
        "x_train_concept = x_train_concept[indx_to_use]"
      ],
      "execution_count": 10,
      "outputs": [
        {
          "output_type": "stream",
          "text": [
            "Downloading data from https://www.cs.toronto.edu/~kriz/cifar-100-python.tar.gz\n",
            "169009152/169001437 [==============================] - 8s 0us/step\n"
          ],
          "name": "stdout"
        }
      ]
    },
    {
      "cell_type": "markdown",
      "metadata": {
        "id": "u_zRRNdj8DA1",
        "colab_type": "text"
      },
      "source": [
        "Finally, we train and summarize our model. This is the standard classifier that the Keras team provides for CIFAR-10."
      ]
    },
    {
      "cell_type": "code",
      "metadata": {
        "id": "GjaSePlo8DA2",
        "colab_type": "code",
        "colab": {
          "base_uri": "https://localhost:8080/",
          "height": 371
        },
        "outputId": "756d5a03-44cc-4c2b-8917-fec33cb5776a"
      },
      "source": [
        "batch_size = 32\n",
        "epochs = 5\n",
        "\n",
        "model = Sequential()\n",
        "model.add(Conv2D(32, (3, 3), padding='same', input_shape=x_train.shape[1:]))\n",
        "model.add(Activation('relu'))\n",
        "model.add(Conv2D(32, (3, 3)))\n",
        "model.add(Activation('relu'))\n",
        "model.add(MaxPooling2D(pool_size=(2, 2)))\n",
        "model.add(Dropout(0.25))\n",
        "\n",
        "model.add(Conv2D(64, (3, 3), padding='same'))\n",
        "model.add(Activation('relu'))\n",
        "model.add(Conv2D(64, (3, 3)))\n",
        "model.add(Activation('relu'))\n",
        "model.add(MaxPooling2D(pool_size=(2, 2)))\n",
        "model.add(Dropout(0.25))\n",
        "\n",
        "model.add(Flatten())\n",
        "model.add(Dense(512))\n",
        "model.add(Activation('relu'))\n",
        "model.add(Dropout(0.5))\n",
        "model.add(Dense(1))\n",
        "model.add(Activation('sigmoid'))\n",
        "\n",
        "# initiate optimizer\n",
        "opt = keras.optimizers.Adam(lr=0.001)\n",
        "\n",
        "# train the model\n",
        "model.compile(loss='binary_crossentropy', optimizer=opt, metrics=['accuracy'])\n",
        "\n",
        "model.fit(x_train, y_train, batch_size=batch_size, epochs=epochs, shuffle=True)"
      ],
      "execution_count": 11,
      "outputs": [
        {
          "output_type": "stream",
          "text": [
            "WARNING:tensorflow:From /usr/local/lib/python3.6/dist-packages/tensorflow/python/framework/op_def_library.py:263: colocate_with (from tensorflow.python.framework.ops) is deprecated and will be removed in a future version.\n",
            "Instructions for updating:\n",
            "Colocations handled automatically by placer.\n",
            "WARNING:tensorflow:From /usr/local/lib/python3.6/dist-packages/keras/backend/tensorflow_backend.py:3445: calling dropout (from tensorflow.python.ops.nn_ops) with keep_prob is deprecated and will be removed in a future version.\n",
            "Instructions for updating:\n",
            "Please use `rate` instead of `keep_prob`. Rate should be set to `rate = 1 - keep_prob`.\n",
            "WARNING:tensorflow:From /usr/local/lib/python3.6/dist-packages/tensorflow/python/ops/math_ops.py:3066: to_int32 (from tensorflow.python.ops.math_ops) is deprecated and will be removed in a future version.\n",
            "Instructions for updating:\n",
            "Use tf.cast instead.\n",
            "Epoch 1/5\n",
            "10000/10000 [==============================] - 8s 795us/step - loss: 0.3491 - acc: 0.8462\n",
            "Epoch 2/5\n",
            "10000/10000 [==============================] - 2s 207us/step - loss: 0.2123 - acc: 0.9170\n",
            "Epoch 3/5\n",
            "10000/10000 [==============================] - 2s 206us/step - loss: 0.1830 - acc: 0.9308\n",
            "Epoch 4/5\n",
            "10000/10000 [==============================] - 2s 207us/step - loss: 0.1684 - acc: 0.9359\n",
            "Epoch 5/5\n",
            "10000/10000 [==============================] - 2s 207us/step - loss: 0.1420 - acc: 0.9491\n"
          ],
          "name": "stdout"
        },
        {
          "output_type": "execute_result",
          "data": {
            "text/plain": [
              "<keras.callbacks.History at 0x7f291dcbaac8>"
            ]
          },
          "metadata": {
            "tags": []
          },
          "execution_count": 11
        }
      ]
    },
    {
      "cell_type": "code",
      "metadata": {
        "id": "T8yrkQos8DA6",
        "colab_type": "code",
        "colab": {
          "base_uri": "https://localhost:8080/",
          "height": 736
        },
        "outputId": "396d26fb-26b7-425d-8d07-a81c89417632"
      },
      "source": [
        "model.summary()"
      ],
      "execution_count": 12,
      "outputs": [
        {
          "output_type": "stream",
          "text": [
            "_________________________________________________________________\n",
            "Layer (type)                 Output Shape              Param #   \n",
            "=================================================================\n",
            "conv2d_1 (Conv2D)            (None, 32, 32, 32)        896       \n",
            "_________________________________________________________________\n",
            "activation_1 (Activation)    (None, 32, 32, 32)        0         \n",
            "_________________________________________________________________\n",
            "conv2d_2 (Conv2D)            (None, 30, 30, 32)        9248      \n",
            "_________________________________________________________________\n",
            "activation_2 (Activation)    (None, 30, 30, 32)        0         \n",
            "_________________________________________________________________\n",
            "max_pooling2d_1 (MaxPooling2 (None, 15, 15, 32)        0         \n",
            "_________________________________________________________________\n",
            "dropout_1 (Dropout)          (None, 15, 15, 32)        0         \n",
            "_________________________________________________________________\n",
            "conv2d_3 (Conv2D)            (None, 15, 15, 64)        18496     \n",
            "_________________________________________________________________\n",
            "activation_3 (Activation)    (None, 15, 15, 64)        0         \n",
            "_________________________________________________________________\n",
            "conv2d_4 (Conv2D)            (None, 13, 13, 64)        36928     \n",
            "_________________________________________________________________\n",
            "activation_4 (Activation)    (None, 13, 13, 64)        0         \n",
            "_________________________________________________________________\n",
            "max_pooling2d_2 (MaxPooling2 (None, 6, 6, 64)          0         \n",
            "_________________________________________________________________\n",
            "dropout_2 (Dropout)          (None, 6, 6, 64)          0         \n",
            "_________________________________________________________________\n",
            "flatten_1 (Flatten)          (None, 2304)              0         \n",
            "_________________________________________________________________\n",
            "dense_1 (Dense)              (None, 512)               1180160   \n",
            "_________________________________________________________________\n",
            "activation_5 (Activation)    (None, 512)               0         \n",
            "_________________________________________________________________\n",
            "dropout_3 (Dropout)          (None, 512)               0         \n",
            "_________________________________________________________________\n",
            "dense_2 (Dense)              (None, 1)                 513       \n",
            "_________________________________________________________________\n",
            "activation_6 (Activation)    (None, 1)                 0         \n",
            "=================================================================\n",
            "Total params: 1,246,241\n",
            "Trainable params: 1,246,241\n",
            "Non-trainable params: 0\n",
            "_________________________________________________________________\n"
          ],
          "name": "stdout"
        }
      ]
    },
    {
      "cell_type": "markdown",
      "metadata": {
        "id": "ylw7OoCC8DA_",
        "colab_type": "text"
      },
      "source": [
        "Now, we instantiate the `TCAV` object. The first thing one should do when using `TCAV` is assign it a model. There are two ways to do this: (1) use the `.set_model(model)` method OR (2) create a `TCAV` object using `TCAV(model = model)`. Please note that `model` should be a Keras sequential model. We provide an example below."
      ]
    },
    {
      "cell_type": "code",
      "metadata": {
        "id": "oa59_PF-8DA_",
        "colab_type": "code",
        "colab": {}
      },
      "source": [
        "tcav_obj = TCAV()\n",
        "tcav_obj.set_model(model)"
      ],
      "execution_count": 0,
      "outputs": []
    },
    {
      "cell_type": "markdown",
      "metadata": {
        "id": "RRSwAC0V8DBD",
        "colab_type": "text"
      },
      "source": [
        "Next, we must specify the \"bottleneck\" layer, and if that layer is a convolutional layer. One can split the model in the object through the `.split_model(bottleneck, conv_layer)` method. Please note that you should split on the last activation/pooling/dropout layer. So, we can split on layers 1, 5, 7 and 11 (starting counting from 0).\n",
        "\n",
        "One the model has been split on the specified bottleneck layer, one must train the concept activation vector. This is done through the `.train_cav(x_concept)` method, which is passed the concept training data. In our case, this is the numpy array of sea images from CIFAR-100. The TCAV object takes care of creating counterexamples.\n",
        "\n",
        "Next, we calculate the sensitivities for our training data through the `.calculate_sensitivity(x_train, y_labels)` method. This method saves the sensitivities for each training object in the `Object.sensitivity` attribute. \n",
        "\n",
        "Finally, to print the sensitivities, simply use the `.print_sensitivity()` method."
      ]
    },
    {
      "cell_type": "code",
      "metadata": {
        "id": "fMYEo6tG8DBD",
        "colab_type": "code",
        "colab": {
          "base_uri": "https://localhost:8080/",
          "height": 50
        },
        "outputId": "ec24d323-55e4-46b3-baf5-bed05717d07a"
      },
      "source": [
        "tcav_obj.split_model(bottleneck = 1, conv_layer = True)\n",
        "tcav_obj.train_cav(x_train_concept)\n",
        "tcav_obj.calculate_sensitivity(x_train, y_train)\n",
        "tcav_obj.print_sensitivity()"
      ],
      "execution_count": 15,
      "outputs": [
        {
          "output_type": "stream",
          "text": [
            "The sensitivity of class 1 is  0.926\n",
            "The sensitivity of class 0 is  0.0122\n"
          ],
          "name": "stdout"
        }
      ]
    },
    {
      "cell_type": "code",
      "metadata": {
        "id": "SYODP53c8DBH",
        "colab_type": "code",
        "colab": {
          "base_uri": "https://localhost:8080/",
          "height": 50
        },
        "outputId": "9d53c4c7-6c17-4071-aa8a-abbc37525f6a"
      },
      "source": [
        "tcav_obj.split_model(bottleneck = 5, conv_layer = True)\n",
        "tcav_obj.train_cav(x_train_concept)\n",
        "tcav_obj.calculate_sensitivity(x_train, y_train)\n",
        "tcav_obj.print_sensitivity()"
      ],
      "execution_count": 16,
      "outputs": [
        {
          "output_type": "stream",
          "text": [
            "The sensitivity of class 1 is  0.9154\n",
            "The sensitivity of class 0 is  0.0408\n"
          ],
          "name": "stdout"
        }
      ]
    },
    {
      "cell_type": "code",
      "metadata": {
        "id": "fG9rUG5l8DBK",
        "colab_type": "code",
        "colab": {
          "base_uri": "https://localhost:8080/",
          "height": 50
        },
        "outputId": "2fc86504-65ac-4c59-ce49-bbd2148ec90f"
      },
      "source": [
        "tcav_obj.split_model(bottleneck = 7, conv_layer = True)\n",
        "tcav_obj.train_cav(x_train_concept)\n",
        "tcav_obj.calculate_sensitivity(x_train, y_train)\n",
        "tcav_obj.print_sensitivity()"
      ],
      "execution_count": 17,
      "outputs": [
        {
          "output_type": "stream",
          "text": [
            "The sensitivity of class 1 is  0.4064\n",
            "The sensitivity of class 0 is  0.0564\n"
          ],
          "name": "stdout"
        }
      ]
    },
    {
      "cell_type": "code",
      "metadata": {
        "id": "1dEJUSJE8DBN",
        "colab_type": "code",
        "colab": {
          "base_uri": "https://localhost:8080/",
          "height": 50
        },
        "outputId": "c7426d3d-2301-467a-bbc4-f108e8f26975"
      },
      "source": [
        "tcav_obj.split_model(bottleneck = 11, conv_layer = True)\n",
        "tcav_obj.train_cav(x_train_concept)\n",
        "tcav_obj.calculate_sensitivity(x_train, y_train)\n",
        "tcav_obj.print_sensitivity()"
      ],
      "execution_count": 18,
      "outputs": [
        {
          "output_type": "stream",
          "text": [
            "The sensitivity of class 1 is  0.0442\n",
            "The sensitivity of class 0 is  0.9904\n"
          ],
          "name": "stdout"
        }
      ]
    },
    {
      "cell_type": "markdown",
      "metadata": {
        "id": "5gmlyMiL8DBQ",
        "colab_type": "text"
      },
      "source": [
        "Above, we clearly see that the sea is a strong concept for class 1, which is the ship. Interestingly, the last layer gives a strong sensitivity to class 0, birds."
      ]
    },
    {
      "cell_type": "markdown",
      "metadata": {
        "id": "0RFpDTgC8DBR",
        "colab_type": "text"
      },
      "source": [
        "Next, we can use another example, which uses airplanes and birds. Our concept will be \"clouds\"."
      ]
    },
    {
      "cell_type": "code",
      "metadata": {
        "id": "kwJZ2ODu8DBS",
        "colab_type": "code",
        "colab": {
          "base_uri": "https://localhost:8080/",
          "height": 220
        },
        "outputId": "04584174-21b2-4238-a271-e86bd3b6c9bc"
      },
      "source": [
        "(x_train, y_train), (x_test, y_test) = cifar10.load_data()\n",
        "\n",
        "# Keep airplanes from CIFAR-10\n",
        "interested_class = y_train == [0]\n",
        "interested_class_indx = [i for i, x in enumerate(interested_class) if x]\n",
        "x_train_class_one = x_train[interested_class_indx]\n",
        "other = y_train == [2]\n",
        "other_indx = [i for i, x in enumerate(other) if x]\n",
        "x_train_class_two = x_train[other_indx]\n",
        "\n",
        "x_train = np.append(x_train_class_one, x_train_class_two, axis = 0)\n",
        "y_train = [1] * 5000\n",
        "y_train = y_train + [0] * 5000\n",
        "\n",
        "x_train = x_train.astype('float32')\n",
        "x_test = x_test.astype('float32')\n",
        "x_train /= 255\n",
        "x_test /= 255\n",
        "\n",
        "f, axarr = plt.subplots(1,2)\n",
        "axarr[0].imshow(x_train[0])\n",
        "axarr[1].imshow(x_train[7777])"
      ],
      "execution_count": 19,
      "outputs": [
        {
          "output_type": "execute_result",
          "data": {
            "text/plain": [
              "<matplotlib.image.AxesImage at 0x7f28f0a60358>"
            ]
          },
          "metadata": {
            "tags": []
          },
          "execution_count": 19
        },
        {
          "output_type": "display_data",
          "data": {
            "image/png": "[encoded data removed]",
            "text/plain": [
              "<Figure size 432x288 with 2 Axes>"
            ]
          },
          "metadata": {
            "tags": []
          }
        }
      ]
    },
    {
      "cell_type": "code",
      "metadata": {
        "id": "7maRkzSt8DBV",
        "colab_type": "code",
        "colab": {}
      },
      "source": [
        "(x_train_concept, y_train_concept), (x_test_concept, y_test_concept) = cifar100.load_data()\n",
        "\n",
        "# keep cloud (23) from CIFAR-100\n",
        "concept = y_train_concept == [23]\n",
        "indices = concept\n",
        "indx_to_use = [i for i, x in enumerate(indices) if x]\n",
        "\n",
        "x_train_concept = x_train_concept[indx_to_use]"
      ],
      "execution_count": 0,
      "outputs": []
    },
    {
      "cell_type": "code",
      "metadata": {
        "id": "eaMmAXUu8DBY",
        "colab_type": "code",
        "colab": {
          "base_uri": "https://localhost:8080/",
          "height": 201
        },
        "outputId": "5724b6ea-5f9b-4450-ffd5-2b8527792b16"
      },
      "source": [
        "# Set parameters\n",
        "batch_size = 32\n",
        "epochs = 5\n",
        "\n",
        "model = Sequential()\n",
        "model.add(Conv2D(32, (3, 3), padding='same', input_shape=x_train.shape[1:]))\n",
        "model.add(Activation('relu'))\n",
        "model.add(Conv2D(32, (3, 3)))\n",
        "model.add(Activation('relu'))\n",
        "model.add(MaxPooling2D(pool_size=(2, 2)))\n",
        "model.add(Dropout(0.25))\n",
        "\n",
        "model.add(Conv2D(64, (3, 3), padding='same'))\n",
        "model.add(Activation('relu'))\n",
        "model.add(Conv2D(64, (3, 3)))\n",
        "model.add(Activation('relu'))\n",
        "model.add(MaxPooling2D(pool_size=(2, 2)))\n",
        "model.add(Dropout(0.25))\n",
        "\n",
        "model.add(Flatten())\n",
        "model.add(Dense(512))\n",
        "model.add(Activation('relu'))\n",
        "model.add(Dropout(0.5))\n",
        "model.add(Dense(1))\n",
        "model.add(Activation('sigmoid'))\n",
        "\n",
        "# initiate optimizer\n",
        "opt = keras.optimizers.Adam(lr=0.001)\n",
        "\n",
        "# train the model\n",
        "model.compile(loss='binary_crossentropy', optimizer=opt, metrics=['accuracy'])\n",
        "\n",
        "model.fit(x_train, y_train, batch_size=batch_size, epochs=epochs, shuffle=True)"
      ],
      "execution_count": 21,
      "outputs": [
        {
          "output_type": "stream",
          "text": [
            "Epoch 1/5\n",
            "10000/10000 [==============================] - 3s 285us/step - loss: 0.4640 - acc: 0.7808\n",
            "Epoch 2/5\n",
            "10000/10000 [==============================] - 2s 210us/step - loss: 0.3602 - acc: 0.8457\n",
            "Epoch 3/5\n",
            "10000/10000 [==============================] - 2s 210us/step - loss: 0.3225 - acc: 0.8617\n",
            "Epoch 4/5\n",
            "10000/10000 [==============================] - 2s 210us/step - loss: 0.3017 - acc: 0.8730\n",
            "Epoch 5/5\n",
            "10000/10000 [==============================] - 2s 209us/step - loss: 0.2697 - acc: 0.8878\n"
          ],
          "name": "stdout"
        },
        {
          "output_type": "execute_result",
          "data": {
            "text/plain": [
              "<keras.callbacks.History at 0x7f28f08d4588>"
            ]
          },
          "metadata": {
            "tags": []
          },
          "execution_count": 21
        }
      ]
    },
    {
      "cell_type": "code",
      "metadata": {
        "id": "HNTDS70k8DBc",
        "colab_type": "code",
        "colab": {}
      },
      "source": [
        "tcav_obj = TCAV()\n",
        "tcav_obj.set_model(model)"
      ],
      "execution_count": 0,
      "outputs": []
    },
    {
      "cell_type": "code",
      "metadata": {
        "id": "yeai3mTL8DBf",
        "colab_type": "code",
        "colab": {
          "base_uri": "https://localhost:8080/",
          "height": 50
        },
        "outputId": "10378bf2-ad75-461a-d4a7-a265d689c4a8"
      },
      "source": [
        "tcav_obj.split_model(bottleneck = 1, conv_layer = True)\n",
        "tcav_obj.train_cav(x_train_concept)\n",
        "tcav_obj.calculate_sensitivity(x_train, y_train)\n",
        "tcav_obj.print_sensitivity()"
      ],
      "execution_count": 23,
      "outputs": [
        {
          "output_type": "stream",
          "text": [
            "The sensitivity of class 1 is  0.7222\n",
            "The sensitivity of class 0 is  0.592\n"
          ],
          "name": "stdout"
        }
      ]
    },
    {
      "cell_type": "code",
      "metadata": {
        "id": "C-cAIvXp8DBj",
        "colab_type": "code",
        "colab": {
          "base_uri": "https://localhost:8080/",
          "height": 50
        },
        "outputId": "d4d1bcb6-4846-4532-9e3a-39c239003859"
      },
      "source": [
        "tcav_obj.split_model(bottleneck = 5, conv_layer = True)\n",
        "tcav_obj.train_cav(x_train_concept)\n",
        "tcav_obj.calculate_sensitivity(x_train, y_train)\n",
        "tcav_obj.print_sensitivity()"
      ],
      "execution_count": 24,
      "outputs": [
        {
          "output_type": "stream",
          "text": [
            "The sensitivity of class 1 is  0.8808\n",
            "The sensitivity of class 0 is  0.3584\n"
          ],
          "name": "stdout"
        }
      ]
    },
    {
      "cell_type": "code",
      "metadata": {
        "id": "gl7wMJnk8DBm",
        "colab_type": "code",
        "colab": {
          "base_uri": "https://localhost:8080/",
          "height": 50
        },
        "outputId": "c7447396-dd9c-4866-8fe6-7b85e941f2bc"
      },
      "source": [
        "tcav_obj.split_model(bottleneck = 7, conv_layer = True)\n",
        "tcav_obj.train_cav(x_train_concept)\n",
        "tcav_obj.calculate_sensitivity(x_train, y_train)\n",
        "tcav_obj.print_sensitivity()"
      ],
      "execution_count": 25,
      "outputs": [
        {
          "output_type": "stream",
          "text": [
            "The sensitivity of class 1 is  0.5176\n",
            "The sensitivity of class 0 is  0.0106\n"
          ],
          "name": "stdout"
        }
      ]
    },
    {
      "cell_type": "code",
      "metadata": {
        "id": "sHE7fqVK8DBp",
        "colab_type": "code",
        "colab": {
          "base_uri": "https://localhost:8080/",
          "height": 50
        },
        "outputId": "f33cb49b-d9f3-4f31-9c14-83d49aede962"
      },
      "source": [
        "tcav_obj.split_model(bottleneck = 11, conv_layer = True)\n",
        "tcav_obj.train_cav(x_train_concept)\n",
        "tcav_obj.calculate_sensitivity(x_train, y_train)\n",
        "tcav_obj.print_sensitivity()"
      ],
      "execution_count": 26,
      "outputs": [
        {
          "output_type": "stream",
          "text": [
            "The sensitivity of class 1 is  1.0\n",
            "The sensitivity of class 0 is  0.0\n"
          ],
          "name": "stdout"
        }
      ]
    },
    {
      "cell_type": "markdown",
      "metadata": {
        "id": "-UFTZiME8DBu",
        "colab_type": "text"
      },
      "source": [
        "We can see that airplanes do have a high sensitivity to the \"cloud\" concept, as do birds in the early layers."
      ]
    }
  ]
}